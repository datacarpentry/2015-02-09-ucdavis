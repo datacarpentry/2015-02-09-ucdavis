{
 "metadata": {
  "name": "",
  "signature": "sha256:26e064b209d0787a09e887d4d41a3fd510e416ce1893b4350739a2b46c0fcb86"
 },
 "nbformat": 3,
 "nbformat_minor": 0,
 "worksheets": [
  {
   "cells": [
    {
     "cell_type": "heading",
     "level": 1,
     "metadata": {},
     "source": [
      "Indexing and Selecting"
     ]
    },
    {
     "cell_type": "markdown",
     "metadata": {},
     "source": [
      "*explain purpose of indexing and slicing here...explain what a value is and what an index is...maybe use a series with an index as an example*"
     ]
    },
    {
     "cell_type": "heading",
     "level": 2,
     "metadata": {},
     "source": [
      "Basics"
     ]
    },
    {
     "cell_type": "markdown",
     "metadata": {},
     "source": [
      "we have the most basic indexing using []"
     ]
    },
    {
     "cell_type": "markdown",
     "metadata": {},
     "source": [
      "can select a column by name"
     ]
    },
    {
     "cell_type": "code",
     "collapsed": false,
     "input": [
      "surveys['species']"
     ],
     "language": "python",
     "metadata": {},
     "outputs": []
    },
    {
     "cell_type": "markdown",
     "metadata": {},
     "source": [
      "you can also set a variable to your subset"
     ]
    },
    {
     "cell_type": "code",
     "collapsed": false,
     "input": [
      "surveys_species=surveys['species']"
     ],
     "language": "python",
     "metadata": {},
     "outputs": []
    },
    {
     "cell_type": "markdown",
     "metadata": {},
     "source": [
      "You can pass a list of columns to [] to select columns in that order. If a column is not contained in the dataframe, an exception will be raised. This is useful for applying a function (like transform) to a subset of your columns. "
     ]
    },
    {
     "cell_type": "code",
     "collapsed": false,
     "input": [
      "surveys[['species', 'plot']]"
     ],
     "language": "python",
     "metadata": {},
     "outputs": []
    },
    {
     "cell_type": "markdown",
     "metadata": {},
     "source": [
      "You can also access columns on DataFrames as an attribute:"
     ]
    },
    {
     "cell_type": "code",
     "collapsed": false,
     "input": [
      "surveys.wgt"
     ],
     "language": "python",
     "metadata": {},
     "outputs": []
    },
    {
     "cell_type": "heading",
     "level": 2,
     "metadata": {},
     "source": [
      "Slicing Ranges"
     ]
    },
    {
     "cell_type": "markdown",
     "metadata": {},
     "source": [
      "Slicing using the [] operator slices rows in dataframes. When slicing in pandas the start bound and the stop bound are included. data[start:stop]"
     ]
    },
    {
     "cell_type": "code",
     "collapsed": false,
     "input": [
      "surveys[0:3]"
     ],
     "language": "python",
     "metadata": {},
     "outputs": []
    },
    {
     "cell_type": "code",
     "collapsed": false,
     "input": [
      "surveys[:5]"
     ],
     "language": "python",
     "metadata": {},
     "outputs": []
    },
    {
     "cell_type": "code",
     "collapsed": false,
     "input": [
      "surveys[-1:]"
     ],
     "language": "python",
     "metadata": {},
     "outputs": []
    },
    {
     "cell_type": "markdown",
     "metadata": {},
     "source": [
      "can set values using slices"
     ]
    },
    {
     "cell_type": "code",
     "collapsed": false,
     "input": [
      "surveys_copy=surveys.copy()\n",
      "surveys_copy[0:3]=0"
     ],
     "language": "python",
     "metadata": {},
     "outputs": []
    },
    {
     "cell_type": "heading",
     "level": 2,
     "metadata": {},
     "source": [
      "Selection with .ix method"
     ]
    },
    {
     "cell_type": "markdown",
     "metadata": {},
     "source": [
      "Return the column in question and its data type. Format is [row, column] *add in what inputs are, etc*"
     ]
    },
    {
     "cell_type": "code",
     "collapsed": false,
     "input": [
      "surveys.ix[:,'species']"
     ],
     "language": "python",
     "metadata": {},
     "outputs": []
    },
    {
     "cell_type": "markdown",
     "metadata": {},
     "source": [
      "you can also set variables to your subset of data. this will be a series"
     ]
    },
    {
     "cell_type": "code",
     "collapsed": false,
     "input": [
      "surveys_species=surveys.ix[:,'species']"
     ],
     "language": "python",
     "metadata": {},
     "outputs": []
    },
    {
     "cell_type": "markdown",
     "metadata": {},
     "source": [
      "more slicing"
     ]
    },
    {
     "cell_type": "code",
     "collapsed": false,
     "input": [
      "surveys.ix[100,['species', 'wgt']]"
     ],
     "language": "python",
     "metadata": {},
     "outputs": []
    },
    {
     "cell_type": "heading",
     "level": 2,
     "metadata": {},
     "source": [
      "Selection by Label"
     ]
    },
    {
     "cell_type": "markdown",
     "metadata": {},
     "source": [
      "all labels must be in index or a KeyError will be raised. remember that the start bound and the stop bound are included. Integers can be used, but they refer to the index label and not the position. "
     ]
    },
    {
     "cell_type": "code",
     "collapsed": false,
     "input": [
      "surveys.loc[[0,10],:]"
     ],
     "language": "python",
     "metadata": {},
     "outputs": []
    },
    {
     "cell_type": "code",
     "collapsed": false,
     "input": [
      "surveys.loc[0,['species', 'plot','wgt']]"
     ],
     "language": "python",
     "metadata": {},
     "outputs": []
    },
    {
     "cell_type": "heading",
     "level": 2,
     "metadata": {},
     "source": [
      "Selection by Position"
     ]
    },
    {
     "cell_type": "markdown",
     "metadata": {},
     "source": [
      "0-based indexing, start bounds included and upper bound excluded. trying to use a non-integer will raise an IndexError"
     ]
    },
    {
     "cell_type": "code",
     "collapsed": false,
     "input": [
      "surveys.iloc[:3]"
     ],
     "language": "python",
     "metadata": {},
     "outputs": []
    },
    {
     "cell_type": "markdown",
     "metadata": {},
     "source": [
      "integer slicing"
     ]
    },
    {
     "cell_type": "code",
     "collapsed": false,
     "input": [
      "surveys.iloc[0:10, 4:6]"
     ],
     "language": "python",
     "metadata": {},
     "outputs": []
    },
    {
     "cell_type": "markdown",
     "metadata": {},
     "source": [
      "slicing rows"
     ]
    },
    {
     "cell_type": "code",
     "collapsed": false,
     "input": [
      "surveys.iloc[0:3,:]"
     ],
     "language": "python",
     "metadata": {},
     "outputs": []
    },
    {
     "cell_type": "markdown",
     "metadata": {},
     "source": [
      "slicing columns"
     ]
    },
    {
     "cell_type": "code",
     "collapsed": false,
     "input": [
      "surveys.iloc[:, 0:5]"
     ],
     "language": "python",
     "metadata": {},
     "outputs": []
    },
    {
     "cell_type": "markdown",
     "metadata": {},
     "source": [
      "integer lists"
     ]
    },
    {
     "cell_type": "code",
     "collapsed": false,
     "input": [
      "surveys.iloc[[2,4,6],[1,3,5]]"
     ],
     "language": "python",
     "metadata": {},
     "outputs": []
    },
    {
     "cell_type": "markdown",
     "metadata": {},
     "source": [
      "can pull out a specific data point"
     ]
    },
    {
     "cell_type": "code",
     "collapsed": false,
     "input": [
      "surveys.iloc[7,156]"
     ],
     "language": "python",
     "metadata": {},
     "outputs": []
    }
   ],
   "metadata": {}
  }
 ]
}